{
  "nbformat": 4,
  "nbformat_minor": 0,
  "metadata": {
    "colab": {
      "provenance": []
    },
    "kernelspec": {
      "name": "python3",
      "display_name": "Python 3"
    },
    "language_info": {
      "name": "python"
    }
  },
  "cells": [
    {
      "cell_type": "markdown",
      "source": [
        "**Python OOPS Questions**"
      ],
      "metadata": {
        "id": "iZgl9E4voKBA"
      }
    },
    {
      "cell_type": "markdown",
      "source": [
        "**1. What is Object Oriented Programming(OOP)?**\n",
        "\n",
        "Object-oriented programming (OOP) is a programming paradigm that organizes software design around data, or objects, rather than functions and logic. It's a way of structuring a program by bundling related properties and behaviors into individual objects.\n",
        "\n",
        "Here's a breakdown of the key concepts:\n",
        "\n",
        "**Core Concepts:**\n",
        "\n",
        "* **Objects:**\n",
        "    * Objects are the fundamental building blocks of OOP. They represent real-world entities or abstract concepts.\n",
        "    * An object has both data (attributes or properties) and behavior (methods or functions).\n",
        "* **Classes:**\n",
        "    * A class is a blueprint or template for creating objects.\n",
        "    * It defines the attributes and methods that objects of that class will have.\n",
        "    * Objects are instances of classes.\n",
        "* **Encapsulation:**\n",
        "    * Encapsulation is the practice of bundling data and methods that operate on that data within a single unit (an object).\n",
        "    * It hides the internal details of an object and exposes only the necessary interface to the outside world.\n",
        "    * This helps to protect data from accidental modification and improves code maintainability.\n",
        "* **Inheritance:**\n",
        "    * Inheritance allows a class (subclass or derived class) to inherit properties and methods from another class (superclass or base class).\n",
        "    * This promotes code reuse and establishes an \"is-a\" relationship between classes.\n",
        "* **Polymorphism:**\n",
        "    * Polymorphism means \"many forms.\"\n",
        "    * It allows objects of different classes to respond to the same method call in different ways.\n",
        "    * This provides flexibility and allows for more generic code.\n",
        "* **Abstraction:**\n",
        "    * Abstraction is the concept of simplifying complex systems by modeling classes appropriate to the problem, and at the correct level of detail.\n",
        "    * It involves hiding complex implementation details and showing only the essential features of an object.\n",
        "\n",
        "**Benefits of OOP:**\n",
        "\n",
        "* **Code Reusability:** Inheritance allows for the reuse of existing code.\n",
        "* **Modularity:** OOP promotes the creation of modular code, making it easier to maintain and update.\n",
        "* **Maintainability:** Encapsulation and abstraction make code easier to understand and modify.\n",
        "* **Scalability:** OOP is well-suited for developing large and complex applications.\n",
        "* **Real-World Modeling:** OOP allows developers to model real-world entities and their interactions more naturally.\n",
        "\n",
        "OOP is a widely used programming paradigm, and many popular programming languages, such as Java, C++, Python, and C#, support it.\n"
      ],
      "metadata": {
        "id": "oBHHYx7ToR9-"
      }
    },
    {
      "cell_type": "markdown",
      "source": [
        "**2. What is a class in OOP?**\n",
        "\n",
        "In object-oriented programming (OOP), a class serves as a blueprint or template for creating objects. To put it simply, it defines the structure and behavior that objects of that specific type will possess. Here's a more detailed explanation:\n",
        "\n",
        "**Key Aspects of a Class:**\n",
        "\n",
        "* **Blueprint:**\n",
        "    * A class acts as a model that outlines the characteristics and actions that an object can have.\n",
        "* **Attributes (Properties):**\n",
        "    * These are variables that hold data related to the object. They represent the object's state.\n",
        "* **Methods (Functions):**\n",
        "    * These are functions that define the object's behavior. They represent the actions that an object can perform.\n",
        "* **Instantiation:**\n",
        "    * Creating an object from a class is called instantiation. The resulting object is referred to as an instance of that class.\n",
        "* **Encapsulation:**\n",
        "    * Classes facilitate encapsulation by bundling data (attributes) and methods that operate on that data within a single unit. This helps to organize code and protect data.\n",
        "\n",
        "**In essence:**\n",
        "\n",
        "* A class is a definition, whereas an object is a concrete realization of that definition.\n",
        "* Think of a class as a recipe and an object as the cake you bake from that recipe.\n",
        "\n",
        "**Example Analogy:**\n",
        "\n",
        "* Imagine a \"Car\" class.\n",
        "    * Attributes might include: color, make, model, and engine size.\n",
        "    * Methods might include: start, stop, accelerate, and brake.\n",
        "    * An object, like \"myRedCar,\" would be an instance of the \"Car\" class, with specific values for its attributes.\n",
        "\n",
        "Classes are fundamental to OOP, enabling developers to create reusable and organized code that models real-world entities.\n"
      ],
      "metadata": {
        "id": "DmBSpyO6ojfd"
      }
    },
    {
      "cell_type": "markdown",
      "source": [
        "**3. What is an object in OOP?**\n",
        "\n",
        "In object-oriented programming (OOP), an object is a specific instance of a class. It's a concrete entity that has its own unique set of data (attributes) and can perform actions (methods) defined by its class.\n",
        "\n",
        "Here's a breakdown:\n",
        "\n",
        "**Key Characteristics of an Object:**\n",
        "\n",
        "* **Instance of a Class:**\n",
        "    * An object is created from a class, which acts as a blueprint.\n",
        "* **Attributes (Properties):**\n",
        "    * Objects have attributes that store data. These attributes represent the object's state or characteristics.\n",
        "    * Each object of the same class can have different values for its attributes.\n",
        "* **Methods (Functions):**\n",
        "    * Objects have methods that define their behavior. These methods are functions that can operate on the object's attributes or perform other actions.\n",
        "    * Methods are defined within the object's class.\n",
        "* **Identity:**\n",
        "    * Each object has a unique identity, meaning it's distinct from other objects, even if they have the same attribute values.\n",
        "\n",
        "**In simpler terms:**\n",
        "\n",
        "* A class is like a blueprint for a house, and an object is an actual house built from that blueprint.\n",
        "* A class defines the general structure and features, while an object is a specific, tangible representation of that structure.\n",
        "\n"
      ],
      "metadata": {
        "id": "XnmvidEvou7r"
      }
    },
    {
      "cell_type": "markdown",
      "source": [
        "**4. What is the difference between abstraction and encapsulation?**\n",
        "\n",
        "Abstraction and encapsulation are two fundamental concepts in object-oriented programming (OOP), and while they often work together, they serve distinct purposes. Here's a breakdown of their differences:\n",
        "\n",
        "**Abstraction:**\n",
        "\n",
        "* **Focus:**\n",
        "    * Abstraction focuses on hiding the complex implementation details and showing only the essential features of an object. It's about \"what\" an object does, not \"how\" it does it.\n",
        "* **Purpose:**\n",
        "    * It simplifies complex systems by providing a high-level view, making them easier to understand and use.\n",
        "    * It allows developers to focus on the essential aspects of an object without being bogged down by unnecessary details.\n",
        "* **Implementation:**\n",
        "    * Abstraction is often achieved through abstract classes and interfaces, which define the contract or blueprint for how objects should behave.\n",
        "* **Example:**\n",
        "    * Think of a car's steering wheel. You know that turning the wheel will change the car's direction, but you don't need to know the intricate mechanical details of how the steering system works.\n",
        "\n",
        "**Encapsulation:**\n",
        "\n",
        "* **Focus:**\n",
        "    * Encapsulation focuses on bundling data (attributes) and methods (functions) that operate on that data within a single unit (a class). It's about \"how\" data is handled.\n",
        "    * It also focuses on restricting direct access to some of an objects components.\n",
        "* **Purpose:**\n",
        "    * It protects data from unauthorized access and modification, ensuring data integrity.\n",
        "    * It promotes modularity and code organization.\n",
        "* **Implementation:**\n",
        "    * Encapsulation is typically implemented by using access modifiers (e.g., private, public, protected) to control the visibility of class members.\n",
        "* **Example:**\n",
        "    * A bank account object might encapsulate the account balance and provide methods for depositing and withdrawing funds. The internal balance is protected from direct external access.\n",
        "\n",
        "**Key Differences Summarized:**\n",
        "\n",
        "* **\"What\" vs. \"How\":**\n",
        "    * Abstraction: \"What\" an object does.\n",
        "    * Encapsulation: \"How\" an object's data is handled.\n",
        "* **Hiding:**\n",
        "    * Abstraction: Hiding implementation details.\n",
        "    * Encapsulation: Hiding data.\n",
        "* **Level:**\n",
        "    * Abstraction: Deals with the design level.\n",
        "    * Encapsulation: Deals with the implementation level.\n",
        "\n",
        "**In essence:**\n",
        "\n",
        "* Abstraction simplifies the interface, while encapsulation protects the implementation.\n",
        "* They often work together to create well structured and secure code.\n"
      ],
      "metadata": {
        "id": "zRHqrpE3o9vB"
      }
    },
    {
      "cell_type": "markdown",
      "source": [
        "**5. What are the dunder methods in Python?**\n",
        "\n",
        "In Python, \"dunder\" methods, also known as \"magic methods\" or \"special methods,\" are methods with double underscores at the beginning and end of their names (e.g., `__init__`, `__str__`). These methods allow you to define how your objects interact with built-in Python operations and functions.\n",
        "\n",
        "Here's a breakdown of their purpose and some common examples:\n",
        "\n",
        "**Purpose:**\n",
        "\n",
        "* **Operator Overloading:**\n",
        "    * Dunder methods enable you to define how operators like `+`, `-`, `*`, `==`, `<`, etc., behave when used with your custom objects.\n",
        "* **Customizing Built-in Functions:**\n",
        "    * They allow you to customize the behavior of built-in functions like `len()`, `str()`, `repr()`, and others.\n",
        "* **Enhancing Object Behavior:**\n",
        "    * They provide a way to make your objects more integrated with the Python language.\n",
        "\n",
        "**Common Dunder Methods:**\n",
        "\n",
        "* **`__init__(self, ...)`:**\n",
        "    * The constructor method. It's called when an object is created from a class.\n",
        "    * Used to initialize the object's attributes.\n",
        "* **`__str__(self)`:**\n",
        "    * Returns a human-readable string representation of the object.\n",
        "    * Called by the `str()` function and the `print()` function.\n",
        "* **`__repr__(self)`:**\n",
        "    * Returns a string representation of the object that can be used to recreate the object.\n",
        "    * Called by the `repr()` function.\n",
        "* **`__len__(self)`:**\n",
        "    * Returns the length of the object.\n",
        "    * Called by the `len()` function.\n",
        "* **`__getitem__(self, key)`:**\n",
        "    * Enables indexing and slicing of the object.\n",
        "    * Called when you access an element using square brackets (e.g., `obj[key]`).\n",
        "* **`__setitem__(self, key, value)`:**\n",
        "    * Enables assignment to elements of the object.\n",
        "    * Called when you set an element using square brackets (e.g. obj[key] = value).\n",
        "* **Arithmetic Operators:**\n",
        "    * `__add__(self, other)`: Addition (`+`).\n",
        "    * `__sub__(self, other)`: Subtraction (`-`).\n",
        "    * `__mul__(self, other)`: Multiplication (`*`).\n",
        "    * And many more.\n",
        "* **Comparison Operators:**\n",
        "    * `__eq__(self, other)`: Equality (`==`).\n",
        "    * `__ne__(self, other)`: Inequality (`!=`).\n",
        "    * `__lt__(self, other)`: Less than (`<`).\n",
        "    * And many more.\n",
        "\n",
        "**Why They're Important:**\n",
        "\n",
        "* Dunder methods make Python objects more flexible and intuitive to use.\n",
        "* They allow you to create objects that behave like built-in Python types.\n",
        "* They enable you to write more expressive and concise code.\n",
        "\n",
        "In essence, dunder methods are a powerful tool in Python for customizing object behavior and making your code more Pythonic.\n"
      ],
      "metadata": {
        "id": "aXiOHHM8pOH1"
      }
    },
    {
      "cell_type": "markdown",
      "source": [
        "**6. Explain the concept of inheritence in OOP.**\n",
        "\n",
        "Inheritance is a fundamental concept in object-oriented programming (OOP) that allows a class (called the subclass, derived class, or child class) to inherit properties and methods from another class (called the superclass, base class, or parent class).\n",
        "\n",
        "Here's a breakdown of the concept:\n",
        "\n",
        "**Core Idea:**\n",
        "\n",
        "* Inheritance establishes an \"is-a\" relationship between classes. For example, a \"Dog\" *is a* \"Animal.\"\n",
        "* The subclass inherits the attributes and methods of the superclass, meaning it automatically gains those characteristics and behaviors.\n",
        "* The subclass can also add its own unique attributes and methods, or it can override (modify) the inherited methods to provide specialized behavior.\n",
        "\n",
        "**Benefits of Inheritance:**\n",
        "\n",
        "* **Code Reusability:**\n",
        "    * Inheritance promotes code reuse by allowing you to define common attributes and methods in a superclass and then reuse them in multiple subclasses.\n",
        "* **Organization:**\n",
        "    * It helps to organize code into a hierarchical structure, making it easier to understand and maintain.\n",
        "* **Extensibility:**\n",
        "    * It allows you to extend the functionality of existing classes without modifying them directly.\n",
        "* **Polymorphism (Often Related):**\n",
        "    * Inheritance is often used in conjunction with polymorphism, which allows objects of different classes to be treated as objects of a common superclass.\n",
        "\n",
        "**How It Works:**\n",
        "\n",
        "1.  **Superclass (Base Class):**\n",
        "    * This is the class whose properties and methods are inherited.\n",
        "2.  **Subclass (Derived Class):**\n",
        "    * This is the class that inherits from the superclass.\n",
        "    * In most languages, you specify the superclass in the subclass's definition.\n",
        "3.  **Inheritance:**\n",
        "    * The subclass automatically gains access to the superclass's attributes and methods.\n",
        "    * The subclass can then:\n",
        "        * Use the inherited attributes and methods as they are.\n",
        "        * Add new attributes and methods.\n",
        "        * Override inherited methods by providing a new implementation in the subclass.\n",
        "\n",
        "**Example (Python):**\n",
        "\n",
        "```python\n",
        "class Animal:  # Superclass\n",
        "    def __init__(self, name):\n",
        "        self.name = name\n",
        "\n",
        "    def speak(self):\n",
        "        print(\"Animal sound\")\n",
        "\n",
        "class Dog(Animal):  # Subclass inheriting from Animal\n",
        "    def __init__(self, name, breed):\n",
        "        super().__init__(name)  # Call the superclass's constructor\n",
        "        self.breed = breed\n",
        "\n",
        "    def speak(self):  # Override the speak() method\n",
        "        print(\"Woof!\")\n",
        "\n",
        "class Cat(Animal): # Subclass inheriting from Animal\n",
        "    def speak(self):\n",
        "        print(\"Meow!\")\n",
        "\n",
        "# Creating objects:\n",
        "animal = Animal(\"Generic Animal\")\n",
        "dog = Dog(\"Buddy\", \"Golden Retriever\")\n",
        "cat = Cat(\"Whiskers\")\n",
        "\n",
        "# Calling methods:\n",
        "animal.speak()  # Output: Animal sound\n",
        "dog.speak()     # Output: Woof!\n",
        "cat.speak()     # Output: Meow!\n",
        "\n",
        "print(dog.name) # Output: Buddy\n",
        "print(dog.breed) # Output: Golden Retriever\n",
        "```\n",
        "\n",
        "**Explanation:**\n",
        "\n",
        "* The `Dog` and `Cat` classes inherit from the `Animal` class.\n",
        "* They inherit the `__init__()` and `speak()` methods.\n",
        "* `Dog` adds its own breed attribute, and overrides the speak method.\n",
        "* `Cat` overrides the speak method.\n",
        "* `super().__init__(name)` is used to call the superclass's constructor, ensuring that the `name` attribute is properly initialized.\n"
      ],
      "metadata": {
        "id": "ZYX8iir4pdqG"
      }
    },
    {
      "cell_type": "markdown",
      "source": [
        "**7. What is polymorphism in OOP?**\n",
        "\n",
        "Polymorphism, in object-oriented programming (OOP), is the ability of objects of different classes to respond to the same method call in different ways. It allows you to write code that can work with objects of various types without needing to know their specific classes.\n",
        "\n"
      ],
      "metadata": {
        "id": "ia08l2MapumM"
      }
    },
    {
      "cell_type": "markdown",
      "source": [
        "**8. How is encapsulation achieved in Python?**\n",
        "\n",
        "Encapsulation in Python, like in other object-oriented programming languages, is about bundling data (attributes) and methods (functions) that operate on that data within a single unit, a class."
      ],
      "metadata": {
        "id": "rRupTdEWqfv_"
      }
    },
    {
      "cell_type": "markdown",
      "source": [
        "**9. What is a constructor in Python?**\n",
        "\n",
        "In Python, a constructor is a special method used to initialize an object when it's created from a class. It's automatically called when you create a new instance of a class.\n",
        "\n"
      ],
      "metadata": {
        "id": "kZ102cMOqxga"
      }
    },
    {
      "cell_type": "markdown",
      "source": [
        "**10. What are class and static methods in Python?**\n",
        "\n",
        "In Python, class and static methods are special types of methods defined within a class. They differ from regular instance methods in how they are called and what arguments they receive. Here's a breakdown:\n",
        "\n",
        "**1. Instance Methods (Regular Methods):**\n",
        "\n",
        "* These are the most common type of method in Python classes.\n",
        "* They receive the instance of the class as the first argument, conventionally named `self`.\n",
        "* They can access and modify the instance's attributes.\n",
        "* They are called on an instance of the class.\n",
        "\n",
        "```python\n",
        "class MyClass:\n",
        "    def instance_method(self):\n",
        "        print(f\"Instance method called with self: {self}\")\n",
        "\n",
        "obj = MyClass()\n",
        "obj.instance_method()\n",
        "```\n",
        "\n",
        "**2. Class Methods:**\n",
        "\n",
        "* Class methods are bound to the class and not the instance of the class.\n",
        "* They receive the class itself as the first argument, conventionally named `cls`.\n",
        "* They can access and modify class-level attributes.\n",
        "* They are defined using the `@classmethod` decorator.\n",
        "* They can be called on both the class and an instance of the class.\n",
        "\n",
        "```python\n",
        "class MyClass:\n",
        "    class_var = \"Class Variable\"\n",
        "\n",
        "    @classmethod\n",
        "    def class_method(cls):\n",
        "        print(f\"Class method called with cls: {cls}\")\n",
        "        print(f\"Class Variable: {cls.class_var}\")\n",
        "\n",
        "MyClass.class_method()  # Called on the class\n",
        "obj = MyClass()\n",
        "obj.class_method()    # Called on an instance\n",
        "```\n",
        "\n",
        "**3. Static Methods:**\n",
        "\n",
        "* Static methods are also bound to the class, but they don't receive either the instance or the class as their first argument.\n",
        "* They are essentially regular functions that are defined within a class's namespace.\n",
        "* They cannot access or modify instance attributes or class attributes directly.\n",
        "* They are defined using the `@staticmethod` decorator.\n",
        "* They can be called on both the class and an instance of the class.\n",
        "* They are often used for utility functions that are related to the class but don't require access to its state.\n",
        "\n",
        "```python\n",
        "class MyClass:\n",
        "    @staticmethod\n",
        "    def static_method():\n",
        "        print(\"Static method called\")\n",
        "\n",
        "MyClass.static_method()  # Called on the class\n",
        "obj = MyClass()\n",
        "obj.static_method()    # Called on an instance\n",
        "```\n",
        "\n",
        "**Key Differences Summarized:**\n",
        "\n",
        "* **Instance Methods:**\n",
        "    * Receive `self` (instance) as the first argument.\n",
        "    * Can access and modify instance attributes.\n",
        "    * Called on instances.\n",
        "* **Class Methods:**\n",
        "    * Receive `cls` (class\n",
        "    * Can access and modify class attributes.\n",
        "    * Called on classes or instances.\n",
        "* **Static Methods:**\n",
        "    * Don't receive `self` or `cls`.\n",
        "    * Cannot access instance or class attributes directly.\n",
        "    * Called on classes or instances.\n",
        "\n",
        "**When to Use Which:**\n",
        "\n",
        "* **Instance Methods:**\n",
        "    * Use when you need to access or modify the state of an instance.\n",
        "* **Class Methods:**\n",
        "    * Use when you need to access or modify class attributes.\n",
        "    * Use as factory methods to create class instances.\n",
        "* **Static Methods:**\n",
        "    * Use when you have a utility function that is logically related to a class but doesn't need access to its state.\n"
      ],
      "metadata": {
        "id": "n0717IsXq-ak"
      }
    },
    {
      "cell_type": "markdown",
      "source": [
        "**11. What is method overloading in OOP?**\n",
        "\n",
        "Method overloading is a feature in object-oriented programming (OOP) that allows a class to have multiple methods with the same name but different parameters. The compiler or interpreter determines which method to call based on the number or types of arguments passed to the method."
      ],
      "metadata": {
        "id": "vtV8Cc_4rN_9"
      }
    },
    {
      "cell_type": "markdown",
      "source": [
        "**12. What is method overriding in OOP?**\n",
        "\n",
        "Method overriding is a key concept in object-oriented programming (OOP) that allows a subclass to provide a different implementation for a method that is already defined in its superclass (parent class). This enables a subclass to customize or extend the behavior inherited from its superclass."
      ],
      "metadata": {
        "id": "RXpKSTs3rktU"
      }
    },
    {
      "cell_type": "markdown",
      "source": [
        "**13. What is a property decorator in Python?**\n",
        "\n",
        "In Python, the @property decorator is a built-in decorator that allows you to define methods that behave like attributes (properties) of a class. It provides a way to encapsulate attribute access and modification, enabling you to add logic and control without changing the way the attribute is accessed from outside the class.\n",
        "\n"
      ],
      "metadata": {
        "id": "6AzEinoArzPi"
      }
    },
    {
      "cell_type": "markdown",
      "source": [
        "**14. Why is polymorphism important in OOP?**\n",
        "\n",
        "Polymorphism is a cornerstone of object-oriented programming (OOP) because it brings several significant benefits that enhance code flexibility, maintainability, and extensibility. Here's why it's so important:\n",
        "\n",
        "**1. Flexibility and Adaptability:**\n",
        "\n",
        "* Polymorphism allows you to write code that can work with objects of different classes without needing to know their specific types.\n",
        "* This makes your code more adaptable to changes and additions, as you can easily introduce new classes that conform to a common interface or superclass.\n",
        "\n",
        "**2. Extensibility:**\n",
        "\n",
        "* It simplifies the process of extending existing code.\n",
        "* You can create new subclasses that provide specialized behavior without modifying the code that uses them.\n",
        "* This supports the \"open/closed principle,\" which states that software entities should be open for extension but closed for modification.\n",
        "\n",
        "**3. Code Reusability:**\n",
        "\n",
        "* Polymorphism promotes code reuse by allowing you to write generic code that can work with objects of various types.\n",
        "* You can create functions or methods that operate on a common superclass or interface, and these functions can be used with any object that implements that interface.\n",
        "\n",
        "**4. Maintainability:**\n",
        "\n",
        "* It makes code easier to maintain and modify.\n",
        "* Changes to one class are less likely to affect other parts of the code, as long as the classes maintain the common interface.\n",
        "* This reduces the risk of introducing bugs when making changes.\n",
        "\n",
        "**5. Abstraction and Encapsulation:**\n",
        "\n",
        "* Polymorphism works hand-in-hand with abstraction and encapsulation.\n",
        "* It allows you to hide the implementation details of specific classes and expose a common interface.\n",
        "* This simplifies the code and makes it easier to understand.\n",
        "\n",
        "**6. Real-World Modeling:**\n",
        "\n",
        "* Polymorphism allows you to model real-world relationships more naturally.\n",
        "* In the real world, objects of different types often share common behaviors.\n",
        "* Polymorphism allows you to represent these relationships in your code.\n",
        "\n",
        "**In essence:**\n",
        "\n",
        "Polymorphism allows code to be written that can handle objects of various types in a uniform manner. It enables code to be more adaptable, extensible, and maintainable. It promotes code reusability and helps to create more flexible and robust software systems.\n"
      ],
      "metadata": {
        "id": "iZBZZ_vRsBnl"
      }
    },
    {
      "cell_type": "markdown",
      "source": [
        "**15. What is an abstract class in Pyhton?**\n",
        "\n",
        "In Python, an abstract class is a class that cannot be instantiated directly. It serves as a blueprint for other classes, defining a common interface and potentially providing some default implementations. Abstract classes are used to enforce a certain structure on subclasses, ensuring that they implement specific methods."
      ],
      "metadata": {
        "id": "p43rjAENsMkL"
      }
    },
    {
      "cell_type": "markdown",
      "source": [
        "**16. What are the advantages of OOP?**\n",
        "\n",
        "Object-oriented programming (OOP) offers numerous advantages that contribute to the development of robust, maintainable, and scalable software. Here are some of the key benefits:\n",
        "\n",
        "**1. Modularity:**\n",
        "\n",
        "* OOP promotes the decomposition of complex systems into smaller, self-contained modules called objects.\n",
        "* Each object encapsulates its own data and behavior, making it easier to understand, develop, and test independently.\n",
        "* This modularity simplifies the overall design and reduces the complexity of large projects.\n",
        "\n",
        "**2. Code Reusability:**\n",
        "\n",
        "* **Inheritance:** Allows you to create new classes (subclasses) that inherit attributes and methods from existing classes (superclasses). This avoids redundant code and promotes the reuse of proven functionality.\n",
        "* This reusability saves development time and effort.\n",
        "* **Composition:** Objects can contain other objects, allowing you to build complex systems by combining simpler components.\n",
        "\n",
        "**3. Maintainability:**\n",
        "\n",
        "* **Encapsulation:** Hides the internal details of an object, making it easier to modify or replace its implementation without affecting other parts of the system.\n",
        "* Changes are localized, reducing the risk of introducing unintended side effects.\n",
        "* Well-organized code is easier to understand and debug.\n",
        "\n",
        "**4. Extensibility:**\n",
        "\n",
        "* **Polymorphism:** Allows you to add new classes and functionality without modifying existing code.\n",
        "* New subclasses can be created to extend the behavior of existing classes, making the system more adaptable to changing requirements.\n",
        "* The \"open/closed principle\" is supported, meaning that software entities should be open for extension but closed for modification.\n",
        "\n",
        "**5. Real-World Modeling:**\n",
        "\n",
        "* OOP allows you to model real-world entities and their interactions more naturally.\n",
        "* Objects can represent physical objects, concepts, or processes, making the code more intuitive and easier to understand.\n",
        "* This improves the mapping between the problem domain and the software solution.\n",
        "\n",
        "**6. Abstraction:**\n",
        "\n",
        "* OOP allows you to focus on the essential features of an object while hiding its complex implementation details.\n",
        "* This simplifies the design and makes the code more manageable.\n",
        "* Abstract classes and interfaces define a common interface for a group of related classes.\n",
        "\n",
        "**7. Improved Collaboration:**\n",
        "\n",
        "* OOP promotes a clear separation of concerns, making it easier for teams to work on different parts of a project concurrently.\n",
        "* Well-defined interfaces and object interactions facilitate communication and coordination among developers.\n",
        "\n",
        "**8. Enhanced Security:**\n",
        "\n",
        "* Encapsulation helps to protect data from unauthorized access and modification.\n",
        "* Access control mechanisms can be used to restrict access to sensitive data.\n",
        "\n",
        "In summary, OOP provides a powerful and flexible approach to software development that leads to more organized, maintainable, and reusable code.\n"
      ],
      "metadata": {
        "id": "Ogvka0iJscAV"
      }
    },
    {
      "cell_type": "markdown",
      "source": [
        "**17. What is the difference between a class variable and an instance variable?**\n",
        "\n",
        "In object-oriented programming (OOP), particularly in Python, class variables and instance variables serve different purposes and have distinct characteristics. Here's a breakdown of their differences:\n",
        "\n",
        "**1. Class Variables:**\n",
        "\n",
        "* **Definition:**\n",
        "    * Class variables are defined within a class but outside of any method.\n",
        "    * They are shared by all instances (objects) of the class.\n",
        "* **Access:**\n",
        "    * They can be accessed using the class name or any instance of the class.\n",
        "    * Changes made to a class variable affect all instances of the class.\n",
        "* **Storage:**\n",
        "    * They are stored in the class's namespace.\n",
        "* **Use Cases:**\n",
        "    * Used for data that is common to all instances of a class, such as constants or default values.\n",
        "    * Used to track information related to the class itself, rather than individual instances.\n",
        "\n",
        "**2. Instance Variables:**\n",
        "\n",
        "* **Definition:**\n",
        "    * Instance variables are defined within the `__init__` method (constructor) or other instance methods using the `self` keyword.\n",
        "    * They are unique to each instance of the class.\n",
        "* **Access:**\n",
        "    * They are accessed using the `self` keyword within instance methods.\n",
        "    * They can also be accessed from outside the class using the instance name.\n",
        "* **Storage:**\n",
        "    * They are stored in the instance's namespace.\n",
        "* **Use Cases:**\n",
        "    * Used for data that is unique to each instance of a class, such as an object's state.\n",
        "\n",
        "**Key Differences Summarized:**\n",
        "\n",
        "* **Scope:**\n",
        "    * Class variables: Shared by all instances.\n",
        "    * Instance variables: Unique to each instance.\n",
        "* **Access:**\n",
        "    * Class variables: Accessed via class or instance.\n",
        "    * Instance variables: Accessed via instance.\n",
        "* **Modification:**\n",
        "    * Class variables: Modification affects all instances.\n",
        "    * Instance variables: Modification affects only the specific instance.\n",
        "\n",
        "**Example (Python):**\n",
        "\n",
        "```python\n",
        "class MyClass:\n",
        "    class_variable = 0  # Class variable\n",
        "\n",
        "    def __init__(self, instance_variable):\n",
        "        self.instance_variable = instance_variable  # Instance variable\n",
        "\n",
        "# Creating instances:\n",
        "obj1 = MyClass(10)\n",
        "obj2 = MyClass(20)\n",
        "\n",
        "# Accessing variables:\n",
        "print(MyClass.class_variable)  # Output: 0\n",
        "print(obj1.class_variable)  # Output: 0\n",
        "print(obj2.class_variable)  # Output: 0\n",
        "\n",
        "print(obj1.instance_variable)  # Output: 10\n",
        "print(obj2.instance_variable)  # Output: 20\n",
        "\n",
        "# Modifying class variable:\n",
        "MyClass.class_variable = 1\n",
        "print(obj1.class_variable)  # Output: 1\n",
        "print(obj2.class_variable)  # Output: 1\n",
        "\n",
        "# Modifying instance variable:\n",
        "obj1.instance_variable = 15\n",
        "print(obj1.instance_variable)  # Output: 15\n",
        "print(obj2.instance_variable)  # Output: 20\n",
        "```\n",
        "\n",
        "In this example:\n",
        "\n",
        "* `class_variable` is shared by `obj1` and `obj2`.\n",
        "* `instance_variable` is unique to each object.\n"
      ],
      "metadata": {
        "id": "PO55WetDsnhp"
      }
    },
    {
      "cell_type": "markdown",
      "source": [
        "**18. What is multiple inheritence in Python?**\n",
        "\n",
        "Multiple inheritance in Python is a feature that allows a class to inherit attributes and methods from more than one parent class. This means a single child class can possess characteristics from multiple independent parent classes."
      ],
      "metadata": {
        "id": "mAEWGpgqs5z4"
      }
    },
    {
      "cell_type": "markdown",
      "source": [
        "**19. Explain the purpose of \" _ __str_ _ _ 'and' _ _'repr' _ _ \"methods in Python.**\n",
        "\n",
        "Both `__str__` and `__repr__` are special (dunder) methods in Python used to provide string representations of objects. However, they serve slightly different purposes and are intended for different audiences.\n",
        "\n",
        "**1. `__str__(self)`:**\n",
        "\n",
        "* **Purpose:**\n",
        "    * The primary purpose of `__str__` is to provide a human-readable, informal string representation of an object.\n",
        "    * It's intended to be used by end-users or for general display purposes.\n",
        "* **When It's Called:**\n",
        "    * Called by the built-in `str()` function.\n",
        "    * Called by the `print()` function.\n",
        "    * Called implicitly when you use an object in a context where a string is expected.\n",
        "* **Output:**\n",
        "    * Should return a string that is easy to understand and conveys the essential information about the object.\n",
        "* **Example:**\n",
        "\n",
        "```python\n",
        "class Point:\n",
        "    def __init__(self, x, y):\n",
        "        self.x = x\n",
        "        self.y = y\n",
        "\n",
        "    def __str__(self):\n",
        "        return f\"Point({self.x}, {self.y})\"\n",
        "\n",
        "p = Point(3, 4)\n",
        "print(p)       # Output: Point(3, 4)\n",
        "print(str(p))  # Output: Point(3, 4)\n",
        "```\n",
        "\n",
        "**2. `__repr__(self)`:**\n",
        "\n",
        "* **Purpose:**\n",
        "    * The primary purpose of `__repr__` is to provide an unambiguous, developer-friendly string representation of an object.\n",
        "    * It's intended to be used for debugging, logging, and recreating the object.\n",
        "* **When It's Called:**\n",
        "    * Called by the built-in `repr()` function.\n",
        "    * Called when you display an object in the Python interpreter or debugger.\n",
        "    * Called if `__str__` is not defined.\n",
        "* **Output:**\n",
        "    * Should return a string that, ideally, can be used to recreate the object.\n",
        "    * If a precise recreation is not possible, it should return a string that provides as much information as possible about the object's state.\n",
        "* **Example:**\n",
        "\n",
        "```python\n",
        "class Point:\n",
        "    def __init__(self, x, y):\n",
        "        self.x = x\n",
        "        self.y = y\n",
        "\n",
        "    def __repr__(self):\n",
        "        return f\"Point({self.x}, {self.y})\"\n",
        "\n",
        "p = Point(3, 4)\n",
        "print(repr(p))  # Output: Point(3, 4)\n",
        "p #Output: Point(3,4) in the interactive python shell.\n",
        "```\n",
        "\n",
        "**Key Differences Summarized:**\n",
        "\n",
        "* **Audience:**\n",
        "    * `__str__`: End-users.\n",
        "    * `__repr__`: Developers.\n",
        "* **Purpose:**\n",
        "    * `__str__`: Human-readable, informal.\n",
        "    * `__repr__`: Unambiguous, developer-friendly, recreateable.\n",
        "* **Fallback:**\n",
        "    * If `__str__` is not defined, Python falls back to `__repr__`.\n",
        "    * It is best practice to always define `__repr__`.\n",
        "\n",
        "**Best Practices:**\n",
        "\n",
        "* Always define `__repr__` for your classes.\n",
        "* If you need a separate, user-friendly representation, define `__str__` as well.\n",
        "* Ideally, `__repr__` should return a string that could be used to recreate the object.\n",
        "* If you cannot create a string that recreates the object, ensure the returned string is very informative.\n"
      ],
      "metadata": {
        "id": "HKkYaMt3tHy-"
      }
    },
    {
      "cell_type": "markdown",
      "source": [
        "**20. What is the significance of the 'super()'function in Pyhton?**\n",
        "\n",
        "The super() function in Python is a built-in function that is used to call methods from a parent class (superclass) within a child class (subclass). It's particularly significant in the context of inheritance, especially multiple inheritance, as it helps to ensure proper method resolution and avoid issues like the diamond problem."
      ],
      "metadata": {
        "id": "jByNdiB1uwsb"
      }
    },
    {
      "cell_type": "markdown",
      "source": [
        "**21. What is the significance of the _ _ del _ _method in Python?**\n",
        "\n",
        "The `__del__` method in Python is a special (dunder) method that is called when an object is about to be garbage collected or destroyed. It's essentially the destructor of an object.\n",
        "\n",
        "Here's a breakdown of its significance:\n",
        "\n",
        "**Purpose:**\n",
        "\n",
        "* **Cleanup Operations:**\n",
        "    * The primary purpose of `__del__` is to perform cleanup operations before an object is destroyed.\n",
        "    * This can include tasks like:\n",
        "        * Closing files or network connections.\n",
        "        * Releasing resources (e.g., locks, memory).\n",
        "        * Notifying other objects or systems.\n",
        "* **Finalization:**\n",
        "    * It provides a finalization mechanism for an object.\n",
        "\n",
        "**How It Works:**\n",
        "\n",
        "* **Garbage Collection:**\n",
        "    * Python's garbage collector automatically reclaims memory occupied by objects that are no longer in use.\n",
        "    * When an object is about to be garbage collected, the `__del__` method (if defined) is called.\n",
        "* **Reference Counting:**\n",
        "    * Python also uses reference counting to determine when an object can be destroyed.\n",
        "    * When an object's reference count reaches zero, it means there are no more references to the object, and it can be destroyed.\n",
        "* **Timing:**\n",
        "    * The exact timing of when `__del__` is called is not guaranteed. It depends on the garbage collector's behavior and the object's reference count.\n",
        "\n",
        "**Example:**\n",
        "\n",
        "```python\n",
        "class MyClass:\n",
        "    def __init__(self, name):\n",
        "        self.name = name\n",
        "        print(f\"Object {self.name} created.\")\n",
        "\n",
        "    def __del__(self):\n",
        "        print(f\"Object {self.name} destroyed.\")\n",
        "\n",
        "# Creating objects:\n",
        "obj1 = MyClass(\"Object 1\")\n",
        "obj2 = MyClass(\"Object 2\")\n",
        "\n",
        "# Deleting objects (explicitly):\n",
        "del obj1\n",
        "del obj2\n",
        "\n",
        "# Objects may also be destroyed when they go out of scope, or when the program exits.\n",
        "```\n",
        "\n",
        "**Important Considerations:**\n",
        "\n",
        "* **Unpredictable Timing:**\n",
        "    * The `__del__` method is not guaranteed to be called immediately when an object is no longer in use.\n",
        "    * Relying on `__del__` for critical cleanup operations can be risky.\n",
        "* **Circular References:**\n",
        "    * Circular references (objects referencing each other) can prevent objects from being garbage collected, and `__del__` might not be called.\n",
        "* **Resource Management:**\n",
        "    * For resource management (e.g., files, connections), it's generally better to use context managers (`with` statement) or explicit `close()` methods.\n",
        "* **Avoid Complex Logic:**\n",
        "    * Avoid putting complex or time-consuming logic in `__del__`, as it can slow down the garbage collection process.\n",
        "* **Exceptions:**\n",
        "    * If an exception occurs in `__del__`, it will be printed to `sys.stderr` and ignored.\n",
        "\n",
        "**In summary:**\n",
        "\n",
        "The `__del__` method is useful for performing final cleanup operations, but it should be used with caution due to its unpredictable timing and potential issues with circular references. Context managers and explicit resource management are generally preferred for handling resources effectively.\n"
      ],
      "metadata": {
        "id": "NMz8nCsXuQNB"
      }
    },
    {
      "cell_type": "markdown",
      "source": [
        "**22. What is the difference between @staticmethod and @classmethodin Python?**\n",
        "\n",
        "`@staticmethod` and `@classmethod` are both decorators in Python used to define methods within a class that don't directly operate on instance data. However, they differ significantly in how they are called and what arguments they receive.\n",
        "\n",
        "Here's a breakdown of their differences:\n",
        "\n",
        "**1. `@staticmethod`:**\n",
        "\n",
        "* **Purpose:**\n",
        "    * A static method is essentially a regular function that is defined within a class's namespace.\n",
        "    * It doesn't receive any implicit arguments related to the class or instance.\n",
        "    * It's used for utility functions that are logically related to the class but don't require access to its state.\n",
        "* **Arguments:**\n",
        "    * It doesn't receive any special first argument (neither `self` nor `cls`).\n",
        "* **Access:**\n",
        "    * It cannot access or modify instance attributes or class attributes directly.\n",
        "    * It can only access other static methods or global variables.\n",
        "* **Usage:**\n",
        "    * Used for functions that are related to the class but don't need to know anything about the class or its instances.\n",
        "    * Often used for utility functions or helper functions.\n",
        "* **Example:**\n",
        "\n",
        "```python\n",
        "class MyClass:\n",
        "    @staticmethod\n",
        "    def utility_function(x, y):\n",
        "        return x + y\n",
        "\n",
        "print(MyClass.utility_function(5, 10))  # Output: 15\n",
        "```\n",
        "\n",
        "**2. `@classmethod`:**\n",
        "\n",
        "* **Purpose:**\n",
        "    * A class method is bound to the class and receives the class itself as the first argument.\n",
        "    * It can access and modify class-level attributes.\n",
        "    * It's often used as a factory method to create class instances.\n",
        "* **Arguments:**\n",
        "    * It receives the class itself as the first argument, conventionally named `cls`.\n",
        "* **Access:**\n",
        "    * It can access and modify class attributes.\n",
        "    * It can also call other class methods.\n",
        "* **Usage:**\n",
        "    * Used when you need to access or modify class attributes.\n",
        "    * Used as factory methods to create class instances with different initializations.\n",
        "* **Example:**\n",
        "\n",
        "```python\n",
        "class MyClass:\n",
        "    class_variable = 0\n",
        "\n",
        "    @classmethod\n",
        "    def increment_class_variable(cls):\n",
        "        cls.class_variable += 1\n",
        "\n",
        "    @classmethod\n",
        "    def create_instance(cls, value):\n",
        "        instance = cls()\n",
        "        instance.value = value\n",
        "        return instance\n",
        "\n",
        "MyClass.increment_class_variable()\n",
        "print(MyClass.class_variable)  # Output: 1\n",
        "\n",
        "obj = MyClass.create_instance(10)\n",
        "print(obj.value) #output: 10\n",
        "```\n",
        "\n",
        "**Key Differences Summarized:**\n",
        "\n",
        "| Feature          | `@staticmethod`                                   | `@classmethod`                                 |\n",
        "| :--------------- | :------------------------------------------------- | :--------------------------------------------- |\n",
        "| First Argument   | None                                             | `cls` (class itself)                           |\n",
        "| Access to State  | Cannot access instance or class attributes         | Can access class attributes                    |\n",
        "| Use Cases        | Utility functions, helper functions              | Factory methods, class-level operations        |\n",
        "| Binding          | Not bound to the class or instance in a special way | Bound to the class                             |\n",
        "\n",
        "**In essence:**\n",
        "\n",
        "* `@staticmethod` is used for functions that are related to the class but don't need access to its state.\n",
        "* `@classmethod` is used for methods that need to access or modify class-level attributes or create class instances.\n"
      ],
      "metadata": {
        "id": "x5GjQA5buoUC"
      }
    },
    {
      "cell_type": "markdown",
      "source": [
        "**23. How does polymorphism work in Pyhton with inheritence?**\n",
        "\n",
        "Polymorphism in Python, particularly when combined with inheritance, allows objects of different classes to respond to the same method call in different ways. This is achieved through method overriding and dynamic dispatch. Here's a breakdown of how it works:\n",
        "\n",
        "**1. Inheritance and Method Overriding:**\n",
        "\n",
        "* **Superclass and Subclasses:**\n",
        "    * You have a superclass (base class) that defines a method.\n",
        "    * Subclasses (derived classes) inherit from the superclass.\n",
        "* **Method Overriding:**\n",
        "    * Subclasses can override the method defined in the superclass by providing their own implementation.\n",
        "    * This means that when the method is called on an object of a subclass, the subclass's version of the method is executed, not the superclass's.\n",
        "\n",
        "**2. Dynamic Dispatch (Runtime Polymorphism):**\n",
        "\n",
        "* **Runtime Resolution:**\n",
        "    * Python determines which method to call at runtime based on the actual type of the object. This is known as dynamic dispatch or runtime polymorphism.\n",
        "* **Object Type Matters:**\n",
        "    * When you call a method on an object, Python checks the object's class to see if it has an implementation of that method.\n",
        "    * If the object's class has the method, that version is called.\n",
        "    * If not, Python looks up the inheritance hierarchy until it finds an implementation.\n",
        "\n",
        "**3. Common Interface:**\n",
        "\n",
        "* **Treating Objects Similarly:**\n",
        "    * Polymorphism allows you to treat objects of different classes as if they were objects of a common type (usually the superclass).\n",
        "    * You can write code that operates on objects of the superclass, and it will work correctly with objects of any subclass.\n",
        "\n",
        "**Example:**\n",
        "\n",
        "```python\n",
        "class Animal:\n",
        "    def speak(self):\n",
        "        print(\"Animal sound\")\n",
        "\n",
        "class Dog(Animal):\n",
        "    def speak(self):  # Method overriding\n",
        "        print(\"Woof!\")\n",
        "\n",
        "class Cat(Animal):\n",
        "    def speak(self):  # Method overriding\n",
        "        print(\"Meow!\")\n",
        "\n",
        "# Function that works with any Animal object\n",
        "def animal_sound(animal):\n",
        "    animal.speak()\n",
        "\n",
        "# Creating objects:\n",
        "animal = Animal()\n",
        "dog = Dog()\n",
        "cat = Cat()\n",
        "\n",
        "# Calling the function with different objects:\n",
        "animal_sound(animal)  # Output: Animal sound\n",
        "animal_sound(dog)     # Output: Woof!\n",
        "animal_sound(cat)     # Output: Meow!\n",
        "```\n",
        "\n",
        "**Explanation:**\n",
        "\n",
        "1.  **Inheritance:**\n",
        "    * `Dog` and `Cat` inherit from `Animal`.\n",
        "2.  **Method Overriding:**\n",
        "    * `Dog` and `Cat` override the `speak()` method.\n",
        "3.  **Dynamic Dispatch:**\n",
        "    * The `animal_sound()` function takes an `Animal` object as input.\n",
        "    * When `animal_sound()` is called with a `Dog` object, Python dynamically dispatches the call to the `Dog` class's `speak()` method.\n",
        "    * The same happens when called with a `Cat` object.\n",
        "4.  **Common Interface:**\n",
        "    * The `animal_sound()` function works with all animal objects, because they all share a common interface (the speak() method).\n",
        "\n",
        "**Key Takeaways:**\n",
        "\n",
        "* Polymorphism allows you to write flexible and reusable code.\n",
        "* Method overriding is essential for customizing behavior in subclasses.\n",
        "* Dynamic dispatch ensures that the correct method is called at runtime.\n",
        "* The ability to use a common interface allows for more generic code.\n"
      ],
      "metadata": {
        "id": "vAPdHIvvvWe3"
      }
    },
    {
      "cell_type": "markdown",
      "source": [
        "**24. What is method chaining in Python OOP?**\n",
        "\n",
        "Method chaining in Python OOP is a technique where multiple method calls are chained together in a single line of code. Each method call returns an object, allowing you to immediately call another method on that returned object. This creates a fluent and readable syntax, often used to build complex operations in a concise manner."
      ],
      "metadata": {
        "id": "Yu79fzqpvpYs"
      }
    },
    {
      "cell_type": "markdown",
      "source": [
        "**25. What is the purpose of the _ _ call _ _ method in Python?**\n",
        "\n",
        "The `__call__` method in Python is a special (dunder) method that allows an object to be called like a function. When you define `__call__` in a class, instances of that class become callable objects.\n",
        "\n",
        "Here's a breakdown of its purpose and how it works:\n",
        "\n",
        "**Purpose:**\n",
        "\n",
        "* **Callable Objects:**\n",
        "    * The primary purpose of `__call__` is to make an object behave like a function.\n",
        "    * This allows you to call the object using parentheses, just like you would call a regular function.\n",
        "* **Customizable Behavior:**\n",
        "    * It allows you to define custom behavior that occurs when the object is called.\n",
        "    * This can be useful for creating objects that encapsulate specific logic or state.\n",
        "* **Function-like Objects:**\n",
        "    * It enables you to create objects that act like functions, but with the added benefit of being able to store state or have attributes.\n",
        "\n",
        "**How It Works:**\n",
        "\n",
        "* **Method Definition:**\n",
        "    * You define the `__call__` method within your class.\n",
        "    * The `__call__` method can take any number of arguments, just like a regular function.\n",
        "* **Object Invocation:**\n",
        "    * When you call an instance of the class using parentheses, Python automatically calls the `__call__` method.\n",
        "* **Arguments Passing:**\n",
        "    * Any arguments you pass when calling the object are passed as arguments to the `__call__` method.\n",
        "\n",
        "**Example:**\n",
        "\n",
        "```python\n",
        "class Adder:\n",
        "    def __init__(self, initial_value):\n",
        "        self.initial_value = initial_value\n",
        "\n",
        "    def __call__(self, x):\n",
        "        return self.initial_value + x\n",
        "\n",
        "# Creating an object:\n",
        "add_5 = Adder(5)\n",
        "\n",
        "# Calling the object like a function:\n",
        "result = add_5(10)  # Equivalent to add_5.__call__(10)\n",
        "\n",
        "print(result)  # Output: 15\n",
        "```\n",
        "\n",
        "**Explanation:**\n",
        "\n",
        "* The `Adder` class has an `__init__` method that initializes the `initial_value` attribute.\n",
        "* The `__call__` method takes an argument `x` and returns the sum of `self.initial_value` and `x`.\n",
        "* When `add_5(10)` is called, Python calls the `__call__` method of the `add_5` object, passing `10` as the argument.\n",
        "* The `__call__` method then returns `15`.\n",
        "\n",
        "**Use Cases:**\n",
        "\n",
        "* **Function Objects with State:**\n",
        "    * Creating objects that act like functions but maintain state between calls.\n",
        "* **Decorators (Advanced):**\n",
        "    * Implementing decorators as classes.\n",
        "* **Callable Classes:**\n",
        "    * Creating classes that are designed to be called like functions.\n",
        "* **Functors (Function Objects):**\n",
        "    * Simulating functors, which are objects that can be called like functions.\n",
        "\n",
        "**In essence:**\n",
        "\n",
        "The `__call__` method provides a powerful way to make objects callable, allowing you to create flexible and expressive code. It's particularly useful when you need objects that encapsulate specific logic or state and can be used like functions.\n"
      ],
      "metadata": {
        "id": "z4XktJftv5P6"
      }
    },
    {
      "cell_type": "markdown",
      "source": [
        "**Practical Questions**"
      ],
      "metadata": {
        "id": "lzIqQi_YwLV4"
      }
    },
    {
      "cell_type": "markdown",
      "source": [
        "**1.Create a parent class Animal with a method speak() that prints a generic message. Create a child class Dog\n",
        "that overrides the speak() method to print \"Bark!\".**\n",
        "\n"
      ],
      "metadata": {
        "id": "U-Vu_sYcwOXr"
      }
    },
    {
      "cell_type": "code",
      "source": [
        "class Animal:\n",
        "    def speak(self):\n",
        "        print(\"Animal sound\")\n",
        "\n",
        "class Dog(Animal):\n",
        "    def speak(self):\n",
        "        print(\"Bark!\")\n",
        "\n",
        "# Create instances of the classes\n",
        "animal = Animal()\n",
        "dog = Dog()\n",
        "\n",
        "# Call the speak() method on each instance\n",
        "animal.speak()  # Output: Animal sound\n",
        "dog.speak()     # Output: Bark!"
      ],
      "metadata": {
        "colab": {
          "base_uri": "https://localhost:8080/"
        },
        "id": "dkvGLSV4wi2g",
        "outputId": "0cc73c6e-e3b2-4af0-a391-e83a502a430a"
      },
      "execution_count": 1,
      "outputs": [
        {
          "output_type": "stream",
          "name": "stdout",
          "text": [
            "Animal sound\n",
            "Bark!\n"
          ]
        }
      ]
    },
    {
      "cell_type": "markdown",
      "source": [
        "**2.Write a program to create an abstract class Shape with a method area(). Derive classes Circle and Rectangle\n",
        "from it and implement the area() method in both.**\n",
        "\n"
      ],
      "metadata": {
        "id": "5EGaUNgMwqIj"
      }
    },
    {
      "cell_type": "code",
      "source": [
        "from abc import ABC, abstractmethod\n",
        "import math\n",
        "\n",
        "class Shape(ABC):\n",
        "    @abstractmethod\n",
        "    def area(self):\n",
        "        pass\n",
        "\n",
        "class Circle(Shape):\n",
        "    def __init__(self, radius):\n",
        "        self.radius = radius\n",
        "\n",
        "    def area(self):\n",
        "        return math.pi * self.radius * self.radius\n",
        "\n",
        "class Rectangle(Shape):\n",
        "    def __init__(self, length, width):\n",
        "        self.length = length\n",
        "        self.width = width\n",
        "\n",
        "    def area(self):\n",
        "        return self.length * self.width\n",
        "\n",
        "# Creating instances and calculating areas:\n",
        "circle = Circle(5)\n",
        "rectangle = Rectangle(4, 6)\n",
        "\n",
        "print(f\"Area of the circle: {circle.area():.2f}\")\n",
        "print(f\"Area of the rectangle: {rectangle.area()}\")"
      ],
      "metadata": {
        "colab": {
          "base_uri": "https://localhost:8080/"
        },
        "id": "toDrptmlw3I2",
        "outputId": "1ca6e25a-e06c-48a4-cc51-be58ac85156b"
      },
      "execution_count": 2,
      "outputs": [
        {
          "output_type": "stream",
          "name": "stdout",
          "text": [
            "Area of the circle: 78.54\n",
            "Area of the rectangle: 24\n"
          ]
        }
      ]
    },
    {
      "cell_type": "markdown",
      "source": [
        "**3.Implement a multi-level inheritance scenario where a class Vehicle has an attribute type. Derive a class Car\n",
        "and further derive a class ElectricCar that adds a battery attribute.**\n",
        "\n"
      ],
      "metadata": {
        "id": "EmTW6UPKw42g"
      }
    },
    {
      "cell_type": "code",
      "source": [
        "class Vehicle:\n",
        "    def __init__(self, vehicle_type):\n",
        "        self.vehicle_type = vehicle_type\n",
        "\n",
        "    def display_type(self):\n",
        "        print(f\"Vehicle Type: {self.vehicle_type}\")\n",
        "\n",
        "class Car(Vehicle):\n",
        "    def __init__(self, vehicle_type, brand, model):\n",
        "        super().__init__(vehicle_type)\n",
        "        self.brand = brand\n",
        "        self.model = model\n",
        "\n",
        "    def display_car_info(self):\n",
        "        print(f\"Car Brand: {self.brand}, Model: {self.model}\")\n",
        "\n",
        "class ElectricCar(Car):\n",
        "    def __init__(self, vehicle_type, brand, model, battery_capacity):\n",
        "        super().__init__(vehicle_type, brand, model)\n",
        "        self.battery_capacity = battery_capacity\n",
        "\n",
        "    def display_electric_car_info(self):\n",
        "        self.display_type()\n",
        "        self.display_car_info()\n",
        "        print(f\"Battery Capacity: {self.battery_capacity} kWh\")\n",
        "\n",
        "# Example usage\n",
        "electric_car = ElectricCar(\"Electric\", \"Tesla\", \"Model S\", 100)\n",
        "electric_car.display_electric_car_info()\n"
      ],
      "metadata": {
        "colab": {
          "base_uri": "https://localhost:8080/"
        },
        "id": "cAlaKLv6xbis",
        "outputId": "6ca856f0-606a-4b11-8fbf-635f25916855"
      },
      "execution_count": 3,
      "outputs": [
        {
          "output_type": "stream",
          "name": "stdout",
          "text": [
            "Vehicle Type: Electric\n",
            "Car Brand: Tesla, Model: Model S\n",
            "Battery Capacity: 100 kWh\n"
          ]
        }
      ]
    },
    {
      "cell_type": "markdown",
      "source": [
        "**4.Demonstrate polymorphism by creating a base class Bird with a method fly(). Create two derived classes\n",
        "Sparrow and Penguin that override the fly() method.**"
      ],
      "metadata": {
        "id": "LKc1Th53xd2B"
      }
    },
    {
      "cell_type": "code",
      "source": [
        "class Bird:\n",
        "    \"\"\"Base class representing a bird.\"\"\"\n",
        "\n",
        "    def fly(self):\n",
        "        \"\"\"Method representing the bird's ability to fly.\"\"\"\n",
        "        print(\"Bird can fly (generic).\")\n",
        "\n",
        "class Sparrow(Bird):\n",
        "    \"\"\"Derived class representing a sparrow.\"\"\"\n",
        "\n",
        "    def fly(self):\n",
        "        \"\"\"Overrides the fly() method for sparrows.\"\"\"\n",
        "        print(\"Sparrow is flying!\")\n",
        "\n",
        "class Penguin(Bird):\n",
        "    \"\"\"Derived class representing a penguin.\"\"\"\n",
        "\n",
        "    def fly(self):\n",
        "        \"\"\"Overrides the fly() method for penguins.\"\"\"\n",
        "        print(\"Penguin cannot fly, but it can swim!\")\n",
        "\n",
        "# Demonstrate polymorphism\n",
        "def bird_fly(bird):\n",
        "    \"\"\"Function that takes a Bird object and calls its fly() method.\"\"\"\n",
        "    bird.fly()\n",
        "\n",
        "# Create instances of the derived classes\n",
        "sparrow = Sparrow()\n",
        "penguin = Penguin()\n",
        "generic_bird = Bird()\n",
        "\n",
        "# Call the bird_fly() function with different bird objects\n",
        "bird_fly(sparrow)  # Output: Sparrow is flying!\n",
        "bird_fly(penguin)  # Output: Penguin cannot fly, but it can swim!\n",
        "bird_fly(generic_bird) #Output: Bird can fly (generic).\n",
        "\n",
        "# Demonstrate that they are all instances of the Bird class.\n",
        "print(isinstance(sparrow, Bird)) #Output: True\n",
        "print(isinstance(penguin, Bird)) #Output: True\n",
        "print(isinstance(generic_bird, Bird)) #Output: True"
      ],
      "metadata": {
        "colab": {
          "base_uri": "https://localhost:8080/"
        },
        "id": "8lxgs1VQx3bD",
        "outputId": "0a1879f9-5b9d-4192-bc3c-af9d82728459"
      },
      "execution_count": 4,
      "outputs": [
        {
          "output_type": "stream",
          "name": "stdout",
          "text": [
            "Sparrow is flying!\n",
            "Penguin cannot fly, but it can swim!\n",
            "Bird can fly (generic).\n",
            "True\n",
            "True\n",
            "True\n"
          ]
        }
      ]
    },
    {
      "cell_type": "markdown",
      "source": [
        "**5.Write a program to demonstrate encapsulation by creating a class BankAccount with private attributes\n",
        "balance and methods to deposit, withdraw, and check balance.**\n",
        "\n"
      ],
      "metadata": {
        "id": "adNpNmZax5hg"
      }
    },
    {
      "cell_type": "code",
      "source": [
        "class BankAccount:\n",
        "    \"\"\"A class representing a bank account.\"\"\"\n",
        "\n",
        "    def __init__(self, initial_balance=0):\n",
        "        \"\"\"Initializes the BankAccount with an initial balance.\n",
        "\n",
        "        Args:\n",
        "            initial_balance: The initial balance of the account (default: 0).\n",
        "        \"\"\"\n",
        "        self.__balance = initial_balance  # Private attribute\n",
        "\n",
        "    def deposit(self, amount):\n",
        "        \"\"\"Deposits the specified amount into the account.\n",
        "\n",
        "        Args:\n",
        "            amount: The amount to deposit.\n",
        "        \"\"\"\n",
        "        if amount > 0:\n",
        "            self.__balance += amount\n",
        "            print(f\"Deposited ${amount}. New balance: ${self.__balance}\")\n",
        "        else:\n",
        "            print(\"Deposit amount must be positive.\")\n",
        "\n",
        "    def withdraw(self, amount):\n",
        "        \"\"\"Withdraws the specified amount from the account.\n",
        "\n",
        "        Args:\n",
        "            amount: The amount to withdraw.\n",
        "        \"\"\"\n",
        "        if amount > 0 and amount <= self.__balance:\n",
        "            self.__balance -= amount\n",
        "            print(f\"Withdrew ${amount}. New balance: ${self.__balance}\")\n",
        "        elif amount <= 0:\n",
        "            print(\"Withdrawal amount must be positive.\")\n",
        "        else:\n",
        "            print(\"Insufficient funds.\")\n",
        "\n",
        "    def check_balance(self):\n",
        "        \"\"\"Returns the current balance of the account.\"\"\"\n",
        "        return self.__balance\n",
        "\n",
        "# Example usage\n",
        "account = BankAccount(1000)\n",
        "account.deposit(500)\n",
        "account.withdraw(200)\n",
        "print(f\"Current balance: ${account.check_balance()}\")\n",
        "\n",
        "# Attempting to access the private attribute directly (demonstrates encapsulation)\n",
        "# print(account.__balance)  # This will result in an AttributeError"
      ],
      "metadata": {
        "colab": {
          "base_uri": "https://localhost:8080/"
        },
        "id": "pkHWDQ2nyGSn",
        "outputId": "a0caf724-84ba-4350-e30a-e5c1f06074f0"
      },
      "execution_count": 5,
      "outputs": [
        {
          "output_type": "stream",
          "name": "stdout",
          "text": [
            "Deposited $500. New balance: $1500\n",
            "Withdrew $200. New balance: $1300\n",
            "Current balance: $1300\n"
          ]
        }
      ]
    },
    {
      "cell_type": "markdown",
      "source": [
        "**6.Demonstrate runtime polymorphism using a method play() in a base class Instrument. Derive classes Guitar\n",
        "and Piano that implement their own version of play().**\n",
        "\n"
      ],
      "metadata": {
        "id": "_lgkyyMyyJQc"
      }
    },
    {
      "cell_type": "code",
      "source": [
        "class Instrument:\n",
        "    \"\"\"Base class representing a musical instrument.\"\"\"\n",
        "\n",
        "    def play(self):\n",
        "        \"\"\"Method representing playing the instrument (generic).\"\"\"\n",
        "        print(\"Playing a generic instrument.\")\n",
        "\n",
        "class Guitar(Instrument):\n",
        "    \"\"\"Derived class representing a guitar.\"\"\"\n",
        "\n",
        "    def play(self):\n",
        "        \"\"\"Overrides the play() method for guitars.\"\"\"\n",
        "        print(\"Strumming a guitar.\")\n",
        "\n",
        "class Piano(Instrument):\n",
        "    \"\"\"Derived class representing a piano.\"\"\"\n",
        "\n",
        "    def play(self):\n",
        "        \"\"\"Overrides the play() method for pianos.\"\"\"\n",
        "        print(\"Playing the piano keys.\")\n",
        "\n",
        "# Demonstrate runtime polymorphism\n",
        "def perform_instrument(instrument):\n",
        "    \"\"\"Function that takes an Instrument object and calls its play() method.\"\"\"\n",
        "    instrument.play()\n",
        "\n",
        "# Create instances of the derived classes\n",
        "guitar = Guitar()\n",
        "piano = Piano()\n",
        "generic_instrument = Instrument()\n",
        "\n",
        "# Call the perform_instrument() function with different instrument objects\n",
        "perform_instrument(guitar)  # Output: Strumming a guitar.\n",
        "perform_instrument(piano)   # Output: Playing the piano keys.\n",
        "perform_instrument(generic_instrument) # Output: Playing a generic instrument.\n",
        "\n",
        "#Demonstrate that they are all instances of the Instrument class.\n",
        "print(isinstance(guitar, Instrument)) #Output: True\n",
        "print(isinstance(piano, Instrument)) #Output: True\n",
        "print(isinstance(generic_instrument, Instrument)) #Output: True"
      ],
      "metadata": {
        "colab": {
          "base_uri": "https://localhost:8080/"
        },
        "id": "L0OBwReNyVB7",
        "outputId": "ba88ae61-f3c3-4ec6-c436-e4e2dc194dfc"
      },
      "execution_count": 6,
      "outputs": [
        {
          "output_type": "stream",
          "name": "stdout",
          "text": [
            "Strumming a guitar.\n",
            "Playing the piano keys.\n",
            "Playing a generic instrument.\n",
            "True\n",
            "True\n",
            "True\n"
          ]
        }
      ]
    },
    {
      "cell_type": "markdown",
      "source": [
        "**7.Create a class MathOperations with a class method add_numbers() to add two numbers and a static\n",
        "method subtract_numbers() to subtract two numbers.**\n",
        "\n"
      ],
      "metadata": {
        "id": "5zABX8LXyXSU"
      }
    },
    {
      "cell_type": "code",
      "source": [
        "class MathOperations:\n",
        "    \"\"\"A class containing math operations.\"\"\"\n",
        "\n",
        "    @classmethod\n",
        "    def add_numbers(cls, num1, num2):\n",
        "        \"\"\"Adds two numbers.\n",
        "\n",
        "        Args:\n",
        "            num1: The first number.\n",
        "            num2: The second number.\n",
        "\n",
        "        Returns:\n",
        "            The sum of the two numbers.\n",
        "        \"\"\"\n",
        "        return num1 + num2\n",
        "\n",
        "    @staticmethod\n",
        "    def subtract_numbers(num1, num2):\n",
        "        \"\"\"Subtracts two numbers.\n",
        "\n",
        "        Args:\n",
        "            num1: The first number.\n",
        "            num2: The second number.\n",
        "\n",
        "        Returns:\n",
        "            The difference of the two numbers.\n",
        "        \"\"\"\n",
        "        return num1 - num2\n",
        "\n",
        "# Example usage\n",
        "result_add = MathOperations.add_numbers(10, 5)\n",
        "result_subtract = MathOperations.subtract_numbers(10, 5)\n",
        "\n",
        "print(f\"Addition result: {result_add}\")  # Output: Addition result: 15\n",
        "print(f\"Subtraction result: {result_subtract}\")  # Output: Subtraction result: 5\n",
        "\n",
        "#Demonstrate that class methods can be called on the class itself.\n",
        "result_add_class = MathOperations.add_numbers(2,2)\n",
        "print(f\"Addition result called on class: {result_add_class}\") #Output: Addition result called on class: 4\n",
        "\n",
        "#Demonstrate that static methods can be called on the class itself.\n",
        "result_sub_class = MathOperations.subtract_numbers(5,4)\n",
        "print(f\"Subtraction result called on class: {result_sub_class}\") #Output: Subtraction result called on class: 1"
      ],
      "metadata": {
        "colab": {
          "base_uri": "https://localhost:8080/"
        },
        "id": "TsliNvztyjOv",
        "outputId": "484ed537-6f5a-4767-d6ad-6a69f277478e"
      },
      "execution_count": 7,
      "outputs": [
        {
          "output_type": "stream",
          "name": "stdout",
          "text": [
            "Addition result: 15\n",
            "Subtraction result: 5\n",
            "Addition result called on class: 4\n",
            "Subtraction result called on class: 1\n"
          ]
        }
      ]
    },
    {
      "cell_type": "markdown",
      "source": [
        "**8.Implement a class Person with a class method to count the total number of persons created.**"
      ],
      "metadata": {
        "id": "AwCKbYIqyk6p"
      }
    },
    {
      "cell_type": "code",
      "source": [
        "class Person:\n",
        "    \"\"\"A class representing a person.\"\"\"\n",
        "\n",
        "    _person_count = 0  # Class variable to store the count\n",
        "\n",
        "    def __init__(self, name, age):\n",
        "        \"\"\"Initializes a Person object.\n",
        "\n",
        "        Args:\n",
        "            name: The person's name.\n",
        "            age: The person's age.\n",
        "        \"\"\"\n",
        "        self.name = name\n",
        "        self.age = age\n",
        "        Person._person_count += 1  # Increment the count when a new person is created\n",
        "\n",
        "    @classmethod\n",
        "    def get_person_count(cls):\n",
        "        \"\"\"Returns the total number of Person objects created.\"\"\"\n",
        "        return cls._person_count\n",
        "\n",
        "# Example usage\n",
        "person1 = Person(\"Alice\", 30)\n",
        "person2 = Person(\"Bob\", 25)\n",
        "person3 = Person(\"Charlie\", 35)\n",
        "\n",
        "print(f\"Total persons created: {Person.get_person_count()}\")  # Output: Total persons created: 3\n",
        "\n",
        "person4 = Person(\"David\", 40)\n",
        "\n",
        "print(f\"Total persons created: {Person.get_person_count()}\") #Output: Total persons created: 4"
      ],
      "metadata": {
        "colab": {
          "base_uri": "https://localhost:8080/"
        },
        "id": "pnJakPaNywTC",
        "outputId": "b5b00a4d-ad75-43cc-91a6-8651623051fa"
      },
      "execution_count": 8,
      "outputs": [
        {
          "output_type": "stream",
          "name": "stdout",
          "text": [
            "Total persons created: 3\n",
            "Total persons created: 4\n"
          ]
        }
      ]
    },
    {
      "cell_type": "markdown",
      "source": [
        "**9.Write a class Fraction with attributes numerator and denominator. Override the str method to display the\n",
        "fraction as \"numerator/denominator.**"
      ],
      "metadata": {
        "id": "cIXiQJygyyLo"
      }
    },
    {
      "cell_type": "code",
      "source": [
        "class Fraction:\n",
        "    \"\"\"A class representing a fraction.\"\"\"\n",
        "\n",
        "    def __init__(self, numerator, denominator):\n",
        "        \"\"\"Initializes a Fraction object.\n",
        "\n",
        "        Args:\n",
        "            numerator: The numerator of the fraction.\n",
        "            denominator: The denominator of the fraction.\n",
        "        \"\"\"\n",
        "        if denominator == 0:\n",
        "            raise ValueError(\"Denominator cannot be zero.\")\n",
        "        self.numerator = numerator\n",
        "        self.denominator = denominator\n",
        "\n",
        "    def __str__(self):\n",
        "        \"\"\"Overrides the str() method to display the fraction as a string.\"\"\"\n",
        "        return f\"{self.numerator}/{self.denominator}\"\n",
        "\n",
        "# Example usage\n",
        "fraction1 = Fraction(3, 4)\n",
        "fraction2 = Fraction(1, 2)\n",
        "\n",
        "print(fraction1)  # Output: 3/4\n",
        "print(fraction2)  # Output: 1/2\n",
        "\n",
        "#Demonstrate that the str method is called implicitly.\n",
        "print(str(fraction1)) #Output 3/4"
      ],
      "metadata": {
        "colab": {
          "base_uri": "https://localhost:8080/"
        },
        "id": "U9PTXb9Ty9Cb",
        "outputId": "3879f57b-44d4-4248-816b-86f708bbd16b"
      },
      "execution_count": 9,
      "outputs": [
        {
          "output_type": "stream",
          "name": "stdout",
          "text": [
            "3/4\n",
            "1/2\n",
            "3/4\n"
          ]
        }
      ]
    },
    {
      "cell_type": "markdown",
      "source": [
        "**10.Demonstrate operator overloading by creating a class Vector and overriding the add method to add two\n",
        "vectors.**\n",
        "\n"
      ],
      "metadata": {
        "id": "hEguRIgoy-vk"
      }
    },
    {
      "cell_type": "code",
      "source": [
        "class Vector:\n",
        "    \"\"\"A class representing a vector.\"\"\"\n",
        "\n",
        "    def __init__(self, x, y):\n",
        "        \"\"\"Initializes a Vector object.\n",
        "\n",
        "        Args:\n",
        "            x: The x-component of the vector.\n",
        "            y: The y-component of the vector.\n",
        "        \"\"\"\n",
        "        self.x = x\n",
        "        self.y = y\n",
        "\n",
        "    def __add__(self, other):\n",
        "        \"\"\"Overrides the + operator to add two vectors.\n",
        "\n",
        "        Args:\n",
        "            other: The other Vector object to add.\n",
        "\n",
        "        Returns:\n",
        "            A new Vector object representing the sum of the two vectors.\n",
        "        \"\"\"\n",
        "        if isinstance(other, Vector):\n",
        "            return Vector(self.x + other.x, self.y + other.y)\n",
        "        else:\n",
        "            raise TypeError(\"Unsupported operand type for +: Vector and {}\".format(type(other)))\n",
        "\n",
        "    def __str__(self):\n",
        "        \"\"\"Overrides the str() method to display the vector as a string.\"\"\"\n",
        "        return f\"({self.x}, {self.y})\"\n",
        "\n",
        "# Example usage\n",
        "vector1 = Vector(1, 2)\n",
        "vector2 = Vector(3, 4)\n",
        "\n",
        "vector3 = vector1 + vector2  # Uses the overridden + operator\n",
        "print(vector3)  # Output: (4, 6)\n",
        "\n",
        "#Demonstrate error handling.\n",
        "vector4 = Vector(1,2)\n",
        "try:\n",
        "  vector5 = vector4 + 5\n",
        "except TypeError as e:\n",
        "  print(e) #Output: Unsupported operand type for +: Vector and <class 'int'>"
      ],
      "metadata": {
        "colab": {
          "base_uri": "https://localhost:8080/"
        },
        "id": "gpK0QegD2lC_",
        "outputId": "a6ce53ca-5b6d-4f61-9742-9a40d865e120"
      },
      "execution_count": 10,
      "outputs": [
        {
          "output_type": "stream",
          "name": "stdout",
          "text": [
            "(4, 6)\n",
            "Unsupported operand type for +: Vector and <class 'int'>\n"
          ]
        }
      ]
    },
    {
      "cell_type": "markdown",
      "source": [
        "**11.Create a class Person with attributes name and age. Add a method greet() that prints \"Hello, my name is\n",
        "{name} and I am {age} years old.\"**\n",
        "\n"
      ],
      "metadata": {
        "id": "caCeOjo72mt9"
      }
    },
    {
      "cell_type": "code",
      "source": [
        "class Person:\n",
        "    \"\"\"A class representing a person.\"\"\"\n",
        "\n",
        "    def __init__(self, name, age):\n",
        "        \"\"\"Initializes a Person object.\n",
        "\n",
        "        Args:\n",
        "            name: The person's name.\n",
        "            age: The person's age.\n",
        "        \"\"\"\n",
        "        self.name = name\n",
        "        self.age = age\n",
        "\n",
        "    def greet(self):\n",
        "        \"\"\"Prints a greeting message from the person.\"\"\"\n",
        "        print(f\"Hello, my name is {self.name} and I am {self.age} years old.\")\n",
        "\n",
        "# Example usage\n",
        "person1 = Person(\"Alice\", 30)\n",
        "person2 = Person(\"Bob\", 25)\n",
        "\n",
        "person1.greet()  # Output: Hello, my name is Alice and I am 30 years old.\n",
        "person2.greet()  # Output: Hello, my name is Bob and I am 25 years old."
      ],
      "metadata": {
        "colab": {
          "base_uri": "https://localhost:8080/"
        },
        "id": "MeNCsRsD2y2G",
        "outputId": "3ff821bb-3742-4d75-b24e-6600d8675f9f"
      },
      "execution_count": 11,
      "outputs": [
        {
          "output_type": "stream",
          "name": "stdout",
          "text": [
            "Hello, my name is Alice and I am 30 years old.\n",
            "Hello, my name is Bob and I am 25 years old.\n"
          ]
        }
      ]
    },
    {
      "cell_type": "markdown",
      "source": [
        "**12.Implement a class Student with attributes name and grades. Create a method average_grade() to compute\n",
        "the average of the grades.**\n",
        "\n"
      ],
      "metadata": {
        "id": "pYqAsl40200r"
      }
    },
    {
      "cell_type": "code",
      "source": [
        "class Student:\n",
        "    \"\"\"A class representing a student.\"\"\"\n",
        "\n",
        "    def __init__(self, name, grades):\n",
        "        \"\"\"Initializes a Student object.\n",
        "\n",
        "        Args:\n",
        "            name: The student's name.\n",
        "            grades: A list of the student's grades.\n",
        "        \"\"\"\n",
        "        self.name = name\n",
        "        self.grades = grades\n",
        "\n",
        "    def average_grade(self):\n",
        "        \"\"\"Computes the average of the student's grades.\n",
        "\n",
        "        Returns:\n",
        "            The average grade, or 0 if the grades list is empty.\n",
        "        \"\"\"\n",
        "        if not self.grades:  # Check for empty grades list\n",
        "            return 0\n",
        "        return sum(self.grades) / len(self.grades)\n",
        "\n",
        "# Example usage\n",
        "student1 = Student(\"Alice\", [85, 90, 78, 92])\n",
        "student2 = Student(\"Bob\", [70, 80, 75])\n",
        "student3 = Student(\"Charlie\", [])\n",
        "\n",
        "print(f\"{student1.name}'s average grade: {student1.average_grade()}\")  # Output: Alice's average grade: 86.25\n",
        "print(f\"{student2.name}'s average grade: {student2.average_grade()}\")  # Output: Bob's average grade: 75.0\n",
        "print(f\"{student3.name}'s average grade: {student3.average_grade()}\") #Output: Charlie's average grade: 0"
      ],
      "metadata": {
        "colab": {
          "base_uri": "https://localhost:8080/"
        },
        "id": "YptodOdt2-j4",
        "outputId": "e037054a-0a8b-4e6b-bc5c-93316a43c4ab"
      },
      "execution_count": 12,
      "outputs": [
        {
          "output_type": "stream",
          "name": "stdout",
          "text": [
            "Alice's average grade: 86.25\n",
            "Bob's average grade: 75.0\n",
            "Charlie's average grade: 0\n"
          ]
        }
      ]
    },
    {
      "cell_type": "markdown",
      "source": [
        "**13.Create a class Rectangle with methods set_dimensions() to set the dimensions and area() to calculate the\n",
        "area.**\n",
        "\n"
      ],
      "metadata": {
        "id": "d90g0xpk3AV2"
      }
    },
    {
      "cell_type": "code",
      "source": [
        "class Rectangle:\n",
        "    \"\"\"A class representing a rectangle.\"\"\"\n",
        "\n",
        "    def __init__(self):\n",
        "        \"\"\"Initializes a Rectangle object with default dimensions.\"\"\"\n",
        "        self.width = 0\n",
        "        self.height = 0\n",
        "\n",
        "    def set_dimensions(self, width, height):\n",
        "        \"\"\"Sets the dimensions of the rectangle.\n",
        "\n",
        "        Args:\n",
        "            width: The width of the rectangle.\n",
        "            height: The height of the rectangle.\n",
        "        \"\"\"\n",
        "        if width < 0 or height < 0:\n",
        "            raise ValueError(\"Width and height must be non-negative.\")\n",
        "        self.width = width\n",
        "        self.height = height\n",
        "\n",
        "    def area(self):\n",
        "        \"\"\"Calculates and returns the area of the rectangle.\"\"\"\n",
        "        return self.width * self.height\n",
        "\n",
        "# Example usage\n",
        "rectangle1 = Rectangle()\n",
        "rectangle1.set_dimensions(5, 10)\n",
        "print(f\"Rectangle 1 area: {rectangle1.area()}\")  # Output: Rectangle 1 area: 50\n",
        "\n",
        "rectangle2 = Rectangle()\n",
        "rectangle2.set_dimensions(3.5, 7)\n",
        "print(f\"Rectangle 2 area: {rectangle2.area()}\") #Output: Rectangle 2 area: 24.5\n",
        "\n",
        "#Demonstrate error handling.\n",
        "rectangle3 = Rectangle()\n",
        "try:\n",
        "    rectangle3.set_dimensions(-1, 5)\n",
        "except ValueError as e:\n",
        "    print(e) #Output: Width and height must be non-negative."
      ],
      "metadata": {
        "colab": {
          "base_uri": "https://localhost:8080/"
        },
        "id": "lporQL-23IXO",
        "outputId": "173b6988-4d78-4506-fd3b-deb47dd959d4"
      },
      "execution_count": 13,
      "outputs": [
        {
          "output_type": "stream",
          "name": "stdout",
          "text": [
            "Rectangle 1 area: 50\n",
            "Rectangle 2 area: 24.5\n",
            "Width and height must be non-negative.\n"
          ]
        }
      ]
    },
    {
      "cell_type": "markdown",
      "source": [
        "**14.Create a class Employee with a method calculate_salary() that computes the salary based on hours worked\n",
        "and hourly rate. Create a derived class Manager that adds a bonus to the salary.**"
      ],
      "metadata": {
        "id": "oRE9CPZF3KDA"
      }
    },
    {
      "cell_type": "code",
      "source": [
        "class Employee:\n",
        "    \"\"\"Base class representing an employee.\"\"\"\n",
        "\n",
        "    def __init__(self, hours_worked, hourly_rate):\n",
        "        \"\"\"Initializes an Employee object.\n",
        "\n",
        "        Args:\n",
        "            hours_worked: The number of hours worked.\n",
        "            hourly_rate: The hourly rate of pay.\n",
        "        \"\"\"\n",
        "        self.hours_worked = hours_worked\n",
        "        self.hourly_rate = hourly_rate\n",
        "\n",
        "    def calculate_salary(self):\n",
        "        \"\"\"Calculates the salary based on hours worked and hourly rate.\"\"\"\n",
        "        return self.hours_worked * self.hourly_rate\n",
        "\n",
        "class Manager(Employee):\n",
        "    \"\"\"Derived class representing a manager, with a bonus added to the salary.\"\"\"\n",
        "\n",
        "    def __init__(self, hours_worked, hourly_rate, bonus):\n",
        "        \"\"\"Initializes a Manager object.\n",
        "\n",
        "        Args:\n",
        "            hours_worked: The number of hours worked.\n",
        "            hourly_rate: The hourly rate of pay.\n",
        "            bonus: The bonus amount.\n",
        "        \"\"\"\n",
        "        super().__init__(hours_worked, hourly_rate)  # Call the base class constructor\n",
        "        self.bonus = bonus\n",
        "\n",
        "    def calculate_salary(self):\n",
        "        \"\"\"Calculates the salary for a manager, including the bonus.\"\"\"\n",
        "        return super().calculate_salary() + self.bonus  # Call the base class method and add the bonus\n",
        "\n",
        "# Example usage\n",
        "employee1 = Employee(40, 15)\n",
        "manager1 = Manager(40, 25, 500)\n",
        "\n",
        "print(f\"Employee salary: ${employee1.calculate_salary()}\")  # Output: Employee salary: $600\n",
        "print(f\"Manager salary: ${manager1.calculate_salary()}\")  # Output: Manager salary: $1500"
      ],
      "metadata": {
        "colab": {
          "base_uri": "https://localhost:8080/"
        },
        "id": "_BjpyH5C3Sgs",
        "outputId": "2887c009-a66c-48fe-886a-29cc33812ddf"
      },
      "execution_count": 14,
      "outputs": [
        {
          "output_type": "stream",
          "name": "stdout",
          "text": [
            "Employee salary: $600\n",
            "Manager salary: $1500\n"
          ]
        }
      ]
    },
    {
      "cell_type": "markdown",
      "source": [
        "**15.Create a class Product with attributes name, price, and quantity. Implement a method total_price() that\n",
        "calculates the total price of the product.**\n",
        "\n"
      ],
      "metadata": {
        "id": "3I5BYEN33Tu5"
      }
    },
    {
      "cell_type": "code",
      "source": [
        "class Product:\n",
        "    \"\"\"A class representing a product.\"\"\"\n",
        "\n",
        "    def __init__(self, name, price, quantity):\n",
        "        \"\"\"Initializes a Product object.\n",
        "\n",
        "        Args:\n",
        "            name: The name of the product.\n",
        "            price: The price of the product.\n",
        "            quantity: The quantity of the product.\n",
        "        \"\"\"\n",
        "        if price < 0 or quantity < 0:\n",
        "            raise ValueError(\"Price and quantity must be non-negative.\")\n",
        "        self.name = name\n",
        "        self.price = price\n",
        "        self.quantity = quantity\n",
        "\n",
        "    def total_price(self):\n",
        "        \"\"\"Calculates the total price of the product.\n",
        "\n",
        "        Returns:\n",
        "            The total price (price * quantity).\n",
        "        \"\"\"\n",
        "        return self.price * self.quantity\n",
        "\n",
        "# Example usage\n",
        "product1 = Product(\"Laptop\", 1200, 2)\n",
        "product2 = Product(\"Mouse\", 25, 5)\n",
        "\n",
        "print(f\"{product1.name} total price: ${product1.total_price()}\")  # Output: Laptop total price: $2400\n",
        "print(f\"{product2.name} total price: ${product2.total_price()}\")  # Output: Mouse total price: $125\n",
        "\n",
        "#Demonstrate error handling.\n",
        "product3 = Product(\"Pen\", 10, 1)\n",
        "try:\n",
        "    product4 = Product(\"Paper\", -1, 5)\n",
        "except ValueError as e:\n",
        "    print(e) #Output: Price and quantity must be non-negative.\n",
        "\n",
        "try:\n",
        "    product5 = Product(\"Eraser\", 1, -1)\n",
        "except ValueError as e:\n",
        "    print(e) #Output: Price and quantity must be non-negative."
      ],
      "metadata": {
        "colab": {
          "base_uri": "https://localhost:8080/"
        },
        "id": "Y2RFmKRa3cZ7",
        "outputId": "c615f87e-5d6d-48da-8a7a-1123054fef08"
      },
      "execution_count": 15,
      "outputs": [
        {
          "output_type": "stream",
          "name": "stdout",
          "text": [
            "Laptop total price: $2400\n",
            "Mouse total price: $125\n",
            "Price and quantity must be non-negative.\n",
            "Price and quantity must be non-negative.\n"
          ]
        }
      ]
    },
    {
      "cell_type": "markdown",
      "source": [
        "**16.Create a class Animal with an abstract method sound(). Create two derived classes Cow and Sheep that\n",
        "implement the sound() method.**"
      ],
      "metadata": {
        "id": "NGEHkhcZ3d5t"
      }
    },
    {
      "cell_type": "code",
      "source": [
        "from abc import ABC, abstractmethod\n",
        "\n",
        "class Animal(ABC):\n",
        "    \"\"\"Abstract base class representing an animal.\"\"\"\n",
        "\n",
        "    @abstractmethod\n",
        "    def sound(self):\n",
        "        \"\"\"Abstract method to be implemented by derived classes.\"\"\"\n",
        "        pass\n",
        "\n",
        "class Cow(Animal):\n",
        "    \"\"\"Derived class representing a cow.\"\"\"\n",
        "\n",
        "    def sound(self):\n",
        "        \"\"\"Implements the sound() method for cows.\"\"\"\n",
        "        print(\"Moo!\")\n",
        "\n",
        "class Sheep(Animal):\n",
        "    \"\"\"Derived class representing a sheep.\"\"\"\n",
        "\n",
        "    def sound(self):\n",
        "        \"\"\"Implements the sound() method for sheep.\"\"\"\n",
        "        print(\"Baa!\")\n",
        "\n",
        "# Example usage\n",
        "cow = Cow()\n",
        "sheep = Sheep()\n",
        "\n",
        "cow.sound()  # Output: Moo!\n",
        "sheep.sound()  # Output: Baa!\n",
        "\n",
        "# Attempting to instantiate the abstract base class (demonstrates abstraction)\n",
        "# animal = Animal()  # This will result in a TypeError"
      ],
      "metadata": {
        "colab": {
          "base_uri": "https://localhost:8080/"
        },
        "id": "nL8yEfUP3mLA",
        "outputId": "88480c52-1a95-4001-fe6f-c1a084c9f980"
      },
      "execution_count": 16,
      "outputs": [
        {
          "output_type": "stream",
          "name": "stdout",
          "text": [
            "Moo!\n",
            "Baa!\n"
          ]
        }
      ]
    },
    {
      "cell_type": "markdown",
      "source": [
        "**17.Create a class Book with attributes title, author, and year_published. Add a method get_book_info() that\n",
        "returns a formatted string with the book's details.**\n",
        "\n"
      ],
      "metadata": {
        "id": "xztZ-98B3oAj"
      }
    },
    {
      "cell_type": "code",
      "source": [
        "class Book:\n",
        "    \"\"\"A class representing a book.\"\"\"\n",
        "\n",
        "    def __init__(self, title, author, year_published):\n",
        "        \"\"\"Initializes a Book object.\n",
        "\n",
        "        Args:\n",
        "            title: The title of the book.\n",
        "            author: The author of the book.\n",
        "            year_published: The year the book was published.\n",
        "        \"\"\"\n",
        "        self.title = title\n",
        "        self.author = author\n",
        "        self.year_published = year_published\n",
        "\n",
        "    def get_book_info(self):\n",
        "        \"\"\"Returns a formatted string with the book's details.\"\"\"\n",
        "        return f\"Title: {self.title}, Author: {self.author}, Year Published: {self.year_published}\"\n",
        "\n",
        "# Example usage\n",
        "book1 = Book(\"The Hitchhiker's Guide to the Galaxy\", \"Douglas Adams\", 1979)\n",
        "book2 = Book(\"Pride and Prejudice\", \"Jane Austen\", 1813)\n",
        "\n",
        "print(book1.get_book_info())  # Output: Title: The Hitchhiker's Guide to the Galaxy, Author: Douglas Adams, Year Published: 1979\n",
        "print(book2.get_book_info())  # Output: Title: Pride and Prejudice, Author: Jane Austen, Year Published: 1813"
      ],
      "metadata": {
        "colab": {
          "base_uri": "https://localhost:8080/"
        },
        "id": "YPX5wCKc3wRV",
        "outputId": "bba0e50b-94b2-4c50-db4f-c1ed9fa6fdbc"
      },
      "execution_count": 17,
      "outputs": [
        {
          "output_type": "stream",
          "name": "stdout",
          "text": [
            "Title: The Hitchhiker's Guide to the Galaxy, Author: Douglas Adams, Year Published: 1979\n",
            "Title: Pride and Prejudice, Author: Jane Austen, Year Published: 1813\n"
          ]
        }
      ]
    },
    {
      "cell_type": "markdown",
      "source": [
        "**18.Create a class House with attributes address and price. Create a derived class Mansion that adds an\n",
        "attribute number_of_rooms.**"
      ],
      "metadata": {
        "id": "uOadJaDQ3x7Q"
      }
    },
    {
      "cell_type": "code",
      "source": [
        "class House:\n",
        "    \"\"\"Base class representing a house.\"\"\"\n",
        "\n",
        "    def __init__(self, address, price):\n",
        "        \"\"\"Initializes a House object.\n",
        "\n",
        "        Args:\n",
        "            address: The address of the house.\n",
        "            price: The price of the house.\n",
        "        \"\"\"\n",
        "        self.address = address\n",
        "        self.price = price\n",
        "\n",
        "    def __str__(self):\n",
        "      return f\"Address: {self.address}, Price: ${self.price}\"\n",
        "\n",
        "class Mansion(House):\n",
        "    \"\"\"Derived class representing a mansion, with an added number_of_rooms attribute.\"\"\"\n",
        "\n",
        "    def __init__(self, address, price, number_of_rooms):\n",
        "        \"\"\"Initializes a Mansion object.\n",
        "\n",
        "        Args:\n",
        "            address: The address of the mansion.\n",
        "            price: The price of the mansion.\n",
        "            number_of_rooms: The number of rooms in the mansion.\n",
        "        \"\"\"\n",
        "        super().__init__(address, price)  # Call the base class constructor\n",
        "        self.number_of_rooms = number_of_rooms\n",
        "\n",
        "    def __str__(self):\n",
        "      return f\"Address: {self.address}, Price: ${self.price}, Rooms: {self.number_of_rooms}\"\n",
        "\n",
        "# Example usage\n",
        "house1 = House(\"123 Main St\", 250000)\n",
        "mansion1 = Mansion(\"456 Grand Ave\", 1000000, 15)\n",
        "\n",
        "print(house1)  # Output: Address: 123 Main St, Price: $250000\n",
        "print(mansion1) # Output: Address: 456 Grand Ave, Price: $1000000, Rooms: 15"
      ],
      "metadata": {
        "colab": {
          "base_uri": "https://localhost:8080/"
        },
        "id": "vLcglzSy35lZ",
        "outputId": "c600cfd2-004a-4d07-8821-6a6bda5853f3"
      },
      "execution_count": 18,
      "outputs": [
        {
          "output_type": "stream",
          "name": "stdout",
          "text": [
            "Address: 123 Main St, Price: $250000\n",
            "Address: 456 Grand Ave, Price: $1000000, Rooms: 15\n"
          ]
        }
      ]
    }
  ]
}